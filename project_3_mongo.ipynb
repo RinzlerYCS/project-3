{
 "cells": [
  {
   "cell_type": "code",
   "execution_count": 3,
   "id": "44ee9e2e-fb2d-4cb9-addc-87f58f77562b",
   "metadata": {},
   "outputs": [
    {
     "ename": "SyntaxError",
     "evalue": "invalid syntax (1788657794.py, line 1)",
     "output_type": "error",
     "traceback": [
      "\u001b[1;36m  Cell \u001b[1;32mIn[3], line 1\u001b[1;36m\u001b[0m\n\u001b[1;33m    mongoimport --type csv -d DB_wildfire -c california_list --headerline --drop California_Fire_Incidents.csv\u001b[0m\n\u001b[1;37m                       ^\u001b[0m\n\u001b[1;31mSyntaxError\u001b[0m\u001b[1;31m:\u001b[0m invalid syntax\n"
     ]
    }
   ],
   "source": [
    "mongoimport --type csv -d DB_wildfire -c california_list --headerline --drop California_Fire_Incidents.csv"
   ]
  },
  {
   "cell_type": "code",
   "execution_count": 5,
   "id": "ccac65f7-f282-4eb4-b251-de9f5c27a01e",
   "metadata": {},
   "outputs": [],
   "source": [
    "from pymongo import MongoClient\n",
    "import pandas as pd\n",
    "from pprint import pprint"
   ]
  },
  {
   "cell_type": "code",
   "execution_count": 7,
   "id": "eb15bf2e-0ae4-49b1-b31e-793ed747f8c1",
   "metadata": {},
   "outputs": [],
   "source": [
    "mongo = MongoClient(port=27017)"
   ]
  },
  {
   "cell_type": "code",
   "execution_count": 9,
   "id": "9cf04292-b660-4c92-8158-f0ed0b2c0643",
   "metadata": {},
   "outputs": [],
   "source": [
    "# assign the uk_food database to a variable name\n",
    "db = mongo['DB_wildfire']"
   ]
  },
  {
   "cell_type": "code",
   "execution_count": 11,
   "id": "b8299fea-86f8-4ece-9685-4f1756ae81dc",
   "metadata": {},
   "outputs": [
    {
     "data": {
      "text/plain": [
       "['california_list']"
      ]
     },
     "execution_count": 11,
     "metadata": {},
     "output_type": "execute_result"
    }
   ],
   "source": [
    "collections = db.list_collection_names()\n",
    "collections"
   ]
  },
  {
   "cell_type": "code",
   "execution_count": 13,
   "id": "e7be0531-bcd9-472d-bdbe-1cda781d082a",
   "metadata": {},
   "outputs": [],
   "source": [
    "# assign the collection to a variable\n",
    "california_l = db['california_list']"
   ]
  },
  {
   "cell_type": "code",
   "execution_count": 31,
   "id": "33389744-8185-4582-b90d-0ddc699d36d4",
   "metadata": {},
   "outputs": [
    {
     "name": "stdout",
     "output_type": "stream",
     "text": [
      "<pymongo.synchronous.cursor.Cursor object at 0x0000014E657EE7B0>\n"
     ]
    }
   ],
   "source": [
    "query = {\"ArchiveYear\":}\n",
    "\n",
    "first_doc = california_l.find(query)\n",
    "\n",
    "pprint(first_doc)"
   ]
  },
  {
   "cell_type": "code",
   "execution_count": 33,
   "id": "d6b622fe-eed1-4ef8-9820-1e70200ef6fc",
   "metadata": {},
   "outputs": [],
   "source": [
    "df = pd.DataFrame(list(first_doc))"
   ]
  },
  {
   "cell_type": "code",
   "execution_count": 41,
   "id": "3ed3b4b4-22a1-43ab-b4d1-6865e6a3992d",
   "metadata": {},
   "outputs": [],
   "source": [
    "x= df[\"Latitude\"]\n",
    "y = df[\"Longitude\"]"
   ]
  },
  {
   "cell_type": "code",
   "execution_count": null,
   "id": "b4693281-08be-4666-a150-6e215c30e848",
   "metadata": {},
   "outputs": [],
   "source": []
  }
 ],
 "metadata": {
  "kernelspec": {
   "display_name": "Python 3 (ipykernel)",
   "language": "python",
   "name": "python3"
  },
  "language_info": {
   "codemirror_mode": {
    "name": "ipython",
    "version": 3
   },
   "file_extension": ".py",
   "mimetype": "text/x-python",
   "name": "python",
   "nbconvert_exporter": "python",
   "pygments_lexer": "ipython3",
   "version": "3.12.4"
  }
 },
 "nbformat": 4,
 "nbformat_minor": 5
}
